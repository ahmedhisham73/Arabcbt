{
  "nbformat": 4,
  "nbformat_minor": 0,
  "metadata": {
    "colab": {
      "name": "MNSIT_MLP_CNN.ipynb",
      "provenance": [],
      "collapsed_sections": [],
      "authorship_tag": "ABX9TyMvBzXjyGxcIELsOcV7xFXf",
      "include_colab_link": true
    },
    "kernelspec": {
      "display_name": "Python 3",
      "name": "python3"
    }
  },
  "cells": [
    {
      "cell_type": "markdown",
      "metadata": {
        "id": "view-in-github",
        "colab_type": "text"
      },
      "source": [
        "<a href=\"https://colab.research.google.com/github/ahmedhisham73/Arabcbt/blob/main/MNSIT_MLP_CNN.ipynb\" target=\"_parent\"><img src=\"https://colab.research.google.com/assets/colab-badge.svg\" alt=\"Open In Colab\"/></a>"
      ]
    },
    {
      "cell_type": "code",
      "metadata": {
        "colab": {
          "base_uri": "https://localhost:8080/"
        },
        "id": "CNZBLyzumhvc",
        "outputId": "c5109f66-010f-4173-8dba-863afa09d842"
      },
      "source": [
        "\n",
        "import tensorflow as tf\n",
        "\n",
        "class CustomCallbacks(tf.keras.callbacks.Callback):\n",
        "    def on_epoch_end(self, epoch, logs={}):\n",
        "      if(logs.get('acc')>0.99):\n",
        "        print(\"\\n 99% acc reached\")\n",
        "        self.model.stop_training = True\n",
        "\n",
        "\n",
        "mnist = tf.keras.datasets.mnist\n",
        "\n",
        "(x_train, y_train),(x_test, y_test) = mnist.load_data()\n",
        "\n",
        "x_train = x_train / 255\n",
        "x_test = x_test / 255\n",
        "\n",
        "model = tf.keras.models.Sequential([\n",
        "    tf.keras.layers.Flatten(input_shape=(28,28)),\n",
        "    tf.keras.layers.Dense(units=256, activation=tf.nn.relu),\n",
        "    tf.keras.layers.Dense(units=128, activation=tf.nn.relu),\n",
        "    tf.keras.layers.Dense(units=10, activation=tf.nn.softmax)\n",
        "])\n",
        "\n",
        "model.compile(optimizer='adam',\n",
        "              loss='sparse_categorical_crossentropy',\n",
        "              metrics=['accuracy'])\n",
        "\n",
        "model.fit(\n",
        "    x_train,\n",
        "    y_train,\n",
        "    epochs=10,\n",
        "    #callbacks=[CustomCallbacks()]\n",
        ")"
      ],
      "execution_count": null,
      "outputs": [
        {
          "output_type": "stream",
          "text": [
            "Downloading data from https://storage.googleapis.com/tensorflow/tf-keras-datasets/mnist.npz\n",
            "11493376/11490434 [==============================] - 0s 0us/step\n",
            "Epoch 1/10\n",
            "1875/1875 [==============================] - 7s 3ms/step - loss: 0.3606 - accuracy: 0.8946\n",
            "Epoch 2/10\n",
            "1875/1875 [==============================] - 6s 3ms/step - loss: 0.0888 - accuracy: 0.9725\n",
            "Epoch 3/10\n",
            "1875/1875 [==============================] - 6s 3ms/step - loss: 0.0554 - accuracy: 0.9827\n",
            "Epoch 4/10\n",
            "1875/1875 [==============================] - 6s 3ms/step - loss: 0.0385 - accuracy: 0.9878\n",
            "Epoch 5/10\n",
            "1875/1875 [==============================] - 6s 3ms/step - loss: 0.0319 - accuracy: 0.9894\n",
            "Epoch 6/10\n",
            "1875/1875 [==============================] - 6s 3ms/step - loss: 0.0237 - accuracy: 0.9919\n",
            "Epoch 7/10\n",
            "1875/1875 [==============================] - 6s 3ms/step - loss: 0.0206 - accuracy: 0.9930\n",
            "Epoch 8/10\n",
            "1875/1875 [==============================] - 6s 3ms/step - loss: 0.0194 - accuracy: 0.9934\n",
            "Epoch 9/10\n",
            "1875/1875 [==============================] - 6s 3ms/step - loss: 0.0177 - accuracy: 0.9939\n",
            "Epoch 10/10\n",
            "1875/1875 [==============================] - 6s 3ms/step - loss: 0.0135 - accuracy: 0.9955\n"
          ],
          "name": "stdout"
        },
        {
          "output_type": "execute_result",
          "data": {
            "text/plain": [
              "<tensorflow.python.keras.callbacks.History at 0x7f4c18847910>"
            ]
          },
          "metadata": {
            "tags": []
          },
          "execution_count": 1
        }
      ]
    },
    {
      "cell_type": "code",
      "metadata": {
        "colab": {
          "background_save": true,
          "base_uri": "https://localhost:8080/"
        },
        "id": "3iLhC3mymqdU",
        "outputId": "4e55fde5-3b27-4586-e1e1-effb6e183166"
      },
      "source": [
        "import tensorflow as tf\n",
        "\n",
        "class CustomCallbacks(tf.keras.callbacks.Callback):\n",
        "    def on_epoch_end(self, epoch, logs={}):\n",
        "      if(logs.get('acc')>0.998):\n",
        "        print(\"\\n 99% acc reached\")\n",
        "        self.model.stop_training = True\n",
        "\n",
        "\n",
        "def preprocess_images(image_set):\n",
        "  image_set = image_set.reshape(-1, 28, 28, 1)\n",
        "  image_set = image_set / 255.0\n",
        "  return image_set\n",
        "\n",
        "\n",
        "mnist = tf.keras.datasets.mnist\n",
        "(training_images, training_labels), (test_images, test_labels) = mnist.load_data()\n",
        "\n",
        "training_images = preprocess_images(training_images)\n",
        "test_images = preprocess_images(test_images)\n",
        "#keras.layers.Conv2D(filters, kernel_size, strides=(1, 1),\n",
        "  #padding='valid', data_format=None, dilation_rate=(1, 1),\n",
        "  #activation=None, use_bias=True, kernel_initializer='glorot_uniform',\n",
        "  #bias_initializer='zeros', kernel_regularizer=None,\n",
        "  #bias_regularizer=None, activity_regularizer=None,\n",
        "  #kernel_constraint=None, bias_constraint=None)\n",
        "\n",
        "model = tf.keras.models.Sequential([\n",
        "    tf.keras.layers.Conv2D(64, (3, 3), activation='relu', input_shape=(28,28,1)),\n",
        "    tf.keras.layers.MaxPooling2D(2, 2),\n",
        "    tf.keras.layers.Flatten(),\n",
        "    tf.keras.layers.Dense(128, activation='relu'),\n",
        "    tf.keras.layers.Dense(64, activation='relu'),\n",
        "    tf.keras.layers.Dense(10, activation='softmax')\n",
        "])\n",
        "\n",
        "model.compile(\n",
        "    optimizer='adam',\n",
        "    loss='sparse_categorical_crossentropy',\n",
        "    metrics=['accuracy']\n",
        ")\n",
        "\n",
        "model.fit(\n",
        "    training_images,\n",
        "    training_labels,\n",
        "    batch_size=64,\n",
        "    epochs=20,\n",
        "    #callbacks=[CustomCallbacks()]\n",
        ")"
      ],
      "execution_count": null,
      "outputs": [
        {
          "output_type": "stream",
          "text": [
            "Epoch 1/20\n",
            "938/938 [==============================] - 42s 44ms/step - loss: 0.3289 - accuracy: 0.8996\n",
            "Epoch 2/20\n",
            "938/938 [==============================] - 41s 44ms/step - loss: 0.0572 - accuracy: 0.9821\n",
            "Epoch 3/20\n",
            "938/938 [==============================] - 41s 44ms/step - loss: 0.0316 - accuracy: 0.9898\n",
            "Epoch 4/20\n",
            "938/938 [==============================] - 41s 44ms/step - loss: 0.0211 - accuracy: 0.9932\n",
            "Epoch 5/20\n",
            "938/938 [==============================] - 41s 43ms/step - loss: 0.0139 - accuracy: 0.9955\n",
            "Epoch 6/20\n",
            "938/938 [==============================] - 41s 44ms/step - loss: 0.0115 - accuracy: 0.9960\n",
            "Epoch 7/20\n",
            "938/938 [==============================] - 41s 43ms/step - loss: 0.0082 - accuracy: 0.9977\n",
            "Epoch 8/20\n",
            "938/938 [==============================] - 41s 44ms/step - loss: 0.0054 - accuracy: 0.9986\n",
            "Epoch 9/20\n",
            "938/938 [==============================] - 43s 46ms/step - loss: 0.0055 - accuracy: 0.9983\n",
            "Epoch 10/20\n",
            "938/938 [==============================] - 41s 44ms/step - loss: 0.0058 - accuracy: 0.9983\n",
            "Epoch 11/20\n",
            "938/938 [==============================] - 41s 43ms/step - loss: 0.0073 - accuracy: 0.9974\n",
            "Epoch 12/20\n",
            "938/938 [==============================] - 41s 44ms/step - loss: 0.0031 - accuracy: 0.9989\n",
            "Epoch 13/20\n",
            "938/938 [==============================] - 41s 43ms/step - loss: 0.0040 - accuracy: 0.9988\n",
            "Epoch 14/20\n",
            "938/938 [==============================] - 40s 43ms/step - loss: 0.0022 - accuracy: 0.9994\n",
            "Epoch 15/20\n",
            "938/938 [==============================] - 41s 44ms/step - loss: 0.0065 - accuracy: 0.9975\n",
            "Epoch 16/20\n",
            "938/938 [==============================] - 41s 44ms/step - loss: 0.0013 - accuracy: 0.9997\n",
            "Epoch 17/20\n",
            "938/938 [==============================] - 40s 43ms/step - loss: 0.0040 - accuracy: 0.9989\n",
            "Epoch 18/20\n",
            "938/938 [==============================] - 40s 42ms/step - loss: 0.0038 - accuracy: 0.9989\n",
            "Epoch 19/20\n",
            "938/938 [==============================] - 39s 42ms/step - loss: 0.0026 - accuracy: 0.9992\n",
            "Epoch 20/20\n",
            "938/938 [==============================] - 39s 42ms/step - loss: 0.0036 - accuracy: 0.9987\n"
          ],
          "name": "stdout"
        },
        {
          "output_type": "execute_result",
          "data": {
            "text/plain": [
              "<tensorflow.python.keras.callbacks.History at 0x7f4c18852190>"
            ]
          },
          "metadata": {
            "tags": []
          },
          "execution_count": 0
        }
      ]
    },
    {
      "cell_type": "code",
      "metadata": {
        "id": "pQ8_3Ec-nZsp"
      },
      "source": [
        ""
      ],
      "execution_count": null,
      "outputs": []
    }
  ]
}